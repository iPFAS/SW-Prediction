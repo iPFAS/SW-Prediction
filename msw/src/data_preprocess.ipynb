{
 "cells": [
  {
   "cell_type": "code",
   "execution_count": 1,
   "metadata": {},
   "outputs": [],
   "source": [
    "import sys\n",
    "import os\n",
    "from pathlib import Path\n",
    "current_dir = os.getcwd()  \n",
    "project_root = os.path.dirname(current_dir)  \n",
    "sys.path.insert(0, project_root) \n",
    "import numpy as np\n",
    "import pandas as pd\n",
    "from src.data.data_preprocessor import DataPreprocessor\n",
    "from src.config.config import Config\n",
    "data_preprocessor = DataPreprocessor()"
   ]
  },
  {
   "cell_type": "code",
   "execution_count": null,
   "metadata": {},
   "outputs": [],
   "source": [
    "\"\"\"加载1990-2022数据\"\"\"\n",
    "historical_df = pd.read_excel(\n",
    "    Config.FEATURE_CONFIG['historical_data_path'],\n",
    "    sheet_name=Config.FEATURE_CONFIG['historical_sheet'],\n",
    "    usecols=Config.FEATURE_CONFIG['usecols'] \n",
    ")\n",
    "\n",
    "\"\"\"执行完整处理流程\"\"\"\n",
    "# 第一阶段：处理历史数据\n",
    "all_countries_df = data_preprocessor.process_historical_data(historical_df)\n",
    "\n",
    "features_path = Path(Config.PATH_CONFIG['features_dir']) / 'global_features.csv'\n",
    "all_countries_df.to_csv(features_path, index=False)"
   ]
  },
  {
   "cell_type": "code",
   "execution_count": null,
   "metadata": {},
   "outputs": [],
   "source": [
    "# 第二阶段：处理MSW数据\n",
    "\"\"\"加载包含MSW的目标数据\"\"\"\n",
    "msw_df = pd.read_excel(\n",
    "    Config.FEATURE_CONFIG['historical_msw_data_path'],\n",
    "    sheet_name=Config.FEATURE_CONFIG['historical_msw_sheet'],\n",
    "    usecols=Config.FEATURE_CONFIG['usecols'] + [Config.DATA_CONFIG['target_column']]\n",
    ")\n",
    "train_df, predict_df = data_preprocessor.merge_features(msw_df)"
   ]
  },
  {
   "cell_type": "code",
   "execution_count": null,
   "metadata": {},
   "outputs": [],
   "source": [
    "# 保存最终数据集\n",
    "train_df.to_csv(\n",
    "    Path(Config.PATH_CONFIG['features_dir']) / 'training_data.csv', \n",
    "    index=False,\n",
    "    encoding='utf-8-sig'\n",
    ")\n",
    "predict_df.to_csv(\n",
    "    Path(Config.PATH_CONFIG['features_dir']) / 'prediction_data.csv', \n",
    "    index=False,\n",
    "    encoding='utf-8-sig'\n",
    ")"
   ]
  },
  {
   "cell_type": "code",
   "execution_count": 2,
   "metadata": {},
   "outputs": [
    {
     "name": "stdout",
     "output_type": "stream",
     "text": [
      "历史数据最后一年: 2022\n",
      "过滤前未来数据形状: (66755, 8)\n",
      "过滤掉年份 <= 2022 后，未来数据形状: (65910, 8)\n",
      "加载特征工程参数从: e:\\code\\jupyter\\固废产生\\SW-Prediction\\msw\\src\\features\\featurefile\\feature_params.pkl\n",
      "合并历史数据和未来数据...\n",
      "合并后数据形状: (71341, 8)\n",
      "按国家和年份排序...\n",
      "应用特征工程转换...\n",
      "特征转换后数据形状: (71341, 62)\n",
      "筛选未来数据...\n",
      "筛选出的未来数据形状: (65910, 62)\n",
      "按场景拆分并保存未来特征文件...\n",
      "  处理场景: SSP1\n",
      "    已保存场景 'SSP1' 的处理后特征 (13182 行) 至: e:\\code\\jupyter\\固废产生\\SW-Prediction\\msw\\src\\features\\featurefile\\future_features_SSP1.csv\n",
      "  处理场景: SSP2\n",
      "    已保存场景 'SSP2' 的处理后特征 (13182 行) 至: e:\\code\\jupyter\\固废产生\\SW-Prediction\\msw\\src\\features\\featurefile\\future_features_SSP2.csv\n",
      "  处理场景: SSP3\n",
      "    已保存场景 'SSP3' 的处理后特征 (13182 行) 至: e:\\code\\jupyter\\固废产生\\SW-Prediction\\msw\\src\\features\\featurefile\\future_features_SSP3.csv\n",
      "  处理场景: SSP4\n",
      "    已保存场景 'SSP4' 的处理后特征 (13182 行) 至: e:\\code\\jupyter\\固废产生\\SW-Prediction\\msw\\src\\features\\featurefile\\future_features_SSP4.csv\n",
      "  处理场景: SSP5\n",
      "    已保存场景 'SSP5' 的处理后特征 (13182 行) 至: e:\\code\\jupyter\\固废产生\\SW-Prediction\\msw\\src\\features\\featurefile\\future_features_SSP5.csv\n",
      "\n",
      "未来数据特征生成完成。\n",
      "未来数据特征生成完成。各场景文件路径:\n",
      "{'SSP1': WindowsPath('e:/code/jupyter/固废产生/SW-Prediction/msw/src/features/featurefile/future_features_SSP1.csv'), 'SSP2': WindowsPath('e:/code/jupyter/固废产生/SW-Prediction/msw/src/features/featurefile/future_features_SSP2.csv'), 'SSP3': WindowsPath('e:/code/jupyter/固废产生/SW-Prediction/msw/src/features/featurefile/future_features_SSP3.csv'), 'SSP4': WindowsPath('e:/code/jupyter/固废产生/SW-Prediction/msw/src/features/featurefile/future_features_SSP4.csv'), 'SSP5': WindowsPath('e:/code/jupyter/固废产生/SW-Prediction/msw/src/features/featurefile/future_features_SSP5.csv')}\n"
     ]
    }
   ],
   "source": [
    "\"\"\"加载2022-2050数据\"\"\"\n",
    "future_df = pd.read_excel(\n",
    "    Config.FEATURE_CONFIG['future_data_path'],\n",
    "    sheet_name=Config.FEATURE_CONFIG['future_sheet'],\n",
    "    usecols=Config.FEATURE_CONFIG['usecols']+['Scenario']\n",
    ")\n",
    "\n",
    "\"\"\"加载1990-2022数据\"\"\"\n",
    "historical_df = pd.read_excel(\n",
    "    Config.FEATURE_CONFIG['historical_data_path'],\n",
    "    sheet_name=Config.FEATURE_CONFIG['historical_sheet'],\n",
    "    usecols=Config.FEATURE_CONFIG['usecols']\n",
    ")\n",
    "\n",
    "# !! 新增：在调用处理函数前，预先移除未来数据中与历史数据重叠的年份 !!\n",
    "last_historical_year = historical_df['Year'].max()\n",
    "print(f\"历史数据最后一年: {last_historical_year}\")\n",
    "print(f\"过滤前未来数据形状: {future_df.shape}\")\n",
    "\n",
    "future_df_filtered = future_df[future_df['Year'] > last_historical_year].copy()\n",
    "print(f\"过滤掉年份 <= {last_historical_year} 后，未来数据形状: {future_df_filtered.shape}\")\n",
    "\n",
    "# 检查过滤后是否还有数据\n",
    "if future_df_filtered.empty:\n",
    "    print(\"错误：过滤重叠年份后，没有有效的未来数据。请检查数据范围。\")\n",
    "    # 可以选择退出或抛出异常\n",
    "    # sys.exit(1) \n",
    "else:\n",
    "    # 使用过滤后的 future_df 调用处理函数\n",
    "    processed_data_paths = data_preprocessor.process_future_data(historical_df, future_df_filtered)\n",
    "    print(\"未来数据特征生成完成。各场景文件路径:\")\n",
    "    print(processed_data_paths)"
   ]
  }
 ],
 "metadata": {
  "kernelspec": {
   "display_name": "pycaret3.0",
   "language": "python",
   "name": "python3"
  },
  "language_info": {
   "codemirror_mode": {
    "name": "ipython",
    "version": 3
   },
   "file_extension": ".py",
   "mimetype": "text/x-python",
   "name": "python",
   "nbconvert_exporter": "python",
   "pygments_lexer": "ipython3",
   "version": "3.8.20"
  }
 },
 "nbformat": 4,
 "nbformat_minor": 2
}
