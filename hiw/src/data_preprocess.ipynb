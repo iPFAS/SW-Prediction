{
 "cells": [
  {
   "cell_type": "code",
   "execution_count": 1,
   "metadata": {},
   "outputs": [],
   "source": [
    "import sys\n",
    "import os\n",
    "from pathlib import Path\n",
    "current_dir = os.getcwd()  \n",
    "project_root = os.path.dirname(current_dir)  \n",
    "sys.path.insert(0, project_root) \n",
    "import numpy as np\n",
    "import pandas as pd\n",
    "from src.data.data_preprocessor import DataPreprocessor\n",
    "from src.config.config import Config\n",
    "data_preprocessor = DataPreprocessor()\n",
    "\n",
    "def detect_anomalies(df, target_col, threshold=5.0):\n",
    "    \"\"\"检测目标列中的异常变化（考虑前后行）\"\"\"\n",
    "    # 按国家和年份排序\n",
    "    df_sorted = df.sort_values(['Country Name', 'Year'])\n",
    "    \n",
    "    # 计算与前一行的比值\n",
    "    df_sorted['prev_ratio'] = df_sorted.groupby('Country Name')[target_col].transform(\n",
    "        lambda x: x / x.shift(1)\n",
    "    )\n",
    "    \n",
    "    # 计算与后一行的比值\n",
    "    df_sorted['next_ratio'] = df_sorted.groupby('Country Name')[target_col].transform(\n",
    "        lambda x: x / x.shift(-1)\n",
    "    )\n",
    "    \n",
    "    # 找出异常记录（与前一行相比超过阈值或与后一行相比小于1/阈值）\n",
    "    anomalies = df_sorted[\n",
    "        (df_sorted['prev_ratio'] > threshold) | \n",
    "        (df_sorted['prev_ratio'] < 1/threshold) |\n",
    "        (df_sorted['next_ratio'] > threshold) |\n",
    "        (df_sorted['next_ratio'] < 1/threshold)\n",
    "    ].copy()\n",
    "    \n",
    "    # 获取相邻记录的信息\n",
    "    anomalies['prev_year'] = anomalies.groupby('Country Name')['Year'].shift(1)\n",
    "    anomalies['next_year'] = anomalies.groupby('Country Name')['Year'].shift(-1)\n",
    "    anomalies['prev_value'] = anomalies.groupby('Country Name')[target_col].shift(1)\n",
    "    anomalies['next_value'] = anomalies.groupby('Country Name')[target_col].shift(-1)\n",
    "    \n",
    "    # 计算年份间隔\n",
    "    anomalies['prev_gap'] = anomalies['Year'] - anomalies['prev_year']\n",
    "    anomalies['next_gap'] = anomalies['next_year'] - anomalies['Year']\n",
    "    \n",
    "    # 整理输出结果\n",
    "    result = anomalies[[\n",
    "        'Country Name', \n",
    "        'prev_year', 'Year', 'next_year',\n",
    "        'prev_gap', 'next_gap',\n",
    "        'prev_value', target_col, 'next_value',\n",
    "        'prev_ratio', 'next_ratio'\n",
    "    ]].dropna(subset=['prev_ratio', 'next_ratio'], how='all')\n",
    "    \n",
    "    return result"
   ]
  },
  {
   "cell_type": "code",
   "execution_count": 2,
   "metadata": {},
   "outputs": [],
   "source": [
    "\"\"\"加载1990-2022数据\"\"\"\n",
    "historical_df = pd.read_excel(\n",
    "    Config.FEATURE_CONFIG['historical_data_path'],\n",
    "    sheet_name=Config.FEATURE_CONFIG['historical_sheet'],\n",
    "    usecols=Config.FEATURE_CONFIG['usecols'] \n",
    ")\n",
    "\n",
    "\"\"\"执行完整处理流程\"\"\"\n",
    "# 第一阶段：处理历史数据\n",
    "all_countries_df = data_preprocessor.process_historical_data(historical_df)\n",
    "\n",
    "features_path = Path(Config.PATH_CONFIG['features_dir']) / 'global_features.csv'\n",
    "all_countries_df.to_csv(features_path, index=False)"
   ]
  },
  {
   "cell_type": "code",
   "execution_count": 3,
   "metadata": {},
   "outputs": [
    {
     "name": "stdout",
     "output_type": "stream",
     "text": [
      "未发现异常变化\n"
     ]
    }
   ],
   "source": [
    "# 第二阶段：处理MSW数据\n",
    "\"\"\"加载包含MSW的目标数据\"\"\"\n",
    "msw_df = pd.read_excel(\n",
    "    Config.FEATURE_CONFIG['historical_msw_data_path'],\n",
    "    sheet_name=Config.FEATURE_CONFIG['historical_msw_sheet'],\n",
    "    usecols=Config.FEATURE_CONFIG['usecols'] + [Config.DATA_CONFIG['target_column']] + ['IW']\n",
    ")\n",
    "\n",
    "\n",
    "# 检测IW异常变化\n",
    "anomalies = detect_anomalies(msw_df, Config.DATA_CONFIG['target_column'])\n",
    "\n",
    "# 显示结果\n",
    "if len(anomalies) > 0:\n",
    "    print(f\"发现{len(anomalies)}条异常变化:\")\n",
    "    pd.set_option('display.float_format', lambda x: '%.2f' % x)\n",
    "    # 按最大变化比例降序排序（取prev_ratio和next_ratio中的最大值）\n",
    "    anomalies['max_ratio'] = anomalies[['prev_ratio', 'next_ratio']].max(axis=1)\n",
    "    display(anomalies.sort_values('max_ratio', ascending=False))\n",
    "else:\n",
    "    print(\"未发现异常变化\")"
   ]
  },
  {
   "cell_type": "code",
   "execution_count": 4,
   "metadata": {},
   "outputs": [],
   "source": [
    "train_df, predict_df = data_preprocessor.merge_features(msw_df)\n",
    "\n",
    "# 保存最终数据集\n",
    "train_df.to_csv(\n",
    "    Path(Config.PATH_CONFIG['features_dir']) / 'training_data.csv', \n",
    "    index=False,\n",
    "    encoding='utf-8-sig'\n",
    ")\n",
    "predict_df.to_csv(\n",
    "    Path(Config.PATH_CONFIG['features_dir']) / 'prediction_data.csv', \n",
    "    index=False,\n",
    "    encoding='utf-8-sig'\n",
    ")"
   ]
  },
  {
   "cell_type": "code",
   "execution_count": 5,
   "metadata": {},
   "outputs": [],
   "source": [
    "\"\"\"加载2023-2050数据\"\"\"\n",
    "future_df = pd.read_excel(\n",
    "    Config.FEATURE_CONFIG['future_data_path'],\n",
    "    sheet_name=Config.FEATURE_CONFIG['future_sheet'],\n",
    "    usecols=Config.FEATURE_CONFIG['usecols']\n",
    ")\n",
    "\n",
    "\"\"\"加载1990-2022数据\"\"\"\n",
    "historical_df = pd.read_excel(\n",
    "    Config.FEATURE_CONFIG['historical_data_path'],\n",
    "    sheet_name=Config.FEATURE_CONFIG['historical_sheet'],\n",
    "    usecols=Config.FEATURE_CONFIG['usecols']\n",
    ")\n",
    "future_prediction_df = data_preprocessor.process_future_data(historical_df, future_df)\n",
    "\n",
    "# 保存最终数据集\n",
    "future_prediction_df.to_csv(\n",
    "    Path(Config.PATH_CONFIG['features_dir']) / 'future_prediction_data.csv', \n",
    "    index=False,\n",
    "    encoding='utf-8-sig'\n",
    ")"
   ]
  }
 ],
 "metadata": {
  "kernelspec": {
   "display_name": "pycaret3.0",
   "language": "python",
   "name": "python3"
  },
  "language_info": {
   "codemirror_mode": {
    "name": "ipython",
    "version": 3
   },
   "file_extension": ".py",
   "mimetype": "text/x-python",
   "name": "python",
   "nbconvert_exporter": "python",
   "pygments_lexer": "ipython3",
   "version": "3.8.20"
  }
 },
 "nbformat": 4,
 "nbformat_minor": 2
}
