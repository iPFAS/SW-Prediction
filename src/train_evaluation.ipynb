{
 "cells": [
  {
   "cell_type": "code",
   "execution_count": null,
   "metadata": {},
   "outputs": [],
   "source": [
    "import sys\n",
    "import os\n",
    "current_dir = os.getcwd()  \n",
    "project_root = os.path.dirname(current_dir)  \n",
    "sys.path.insert(0, project_root) \n",
    "from pathlib import Path\n",
    "import warnings\n",
    "import pandas as pd\n",
    "from pycaret.regression import *\n",
    "from src.config.config import Config\n",
    "from src.data.data_loader import DataLoader\n",
    "from src.models.model_evaluator import ModelEvaluator\n",
    "\n",
    "def train_models(train: pd.DataFrame,val: pd.DataFrame,target_column: str):\n",
    "    \"\"\"训练模型流程\n",
    "    Args:\n",
    "        data_path: 可选的数据文件路径\n",
    "    \"\"\"\n",
    "    model_evaluator.setup_experiment(\n",
    "        train_size=Config.MODEL_CONFIG['train_size'],\n",
    "        train_data=train,\n",
    "        val_data = val,\n",
    "        target_column = target_column,\n",
    "        categorical_features = Config.FEATURE_CONFIG['categorical_columns']\n",
    "    )\n",
    "\n",
    "    # 训练模型并返回最佳模型字典\n",
    "    return model_evaluator.train_top_models(n_models=Config.MODEL_CONFIG['n_top_models'])\n",
    "\n",
    "def tune(models: dict):\n",
    "    \"\"\"模型调优和集成\"\"\"\n",
    "    # 对top模型进行调优\n",
    "    tuned_models = model_evaluator.tune_models(models)\n",
    "\n",
    "    return tuned_models\n",
    "\n",
    "def ensemble(models: dict):\n",
    "    \"\"\"模型集成\"\"\"\n",
    "    # 对top模型进行集成\n",
    "    blended_model = model_evaluator.ensemble_models(models)\n",
    "\n",
    "    return blended_model    \n",
    "    # 模型\n",
    "    \n",
    "def save_models(models: dict):\n",
    "\n",
    "    model_evaluator.saved_models(models)"
   ]
  },
  {
   "cell_type": "code",
   "execution_count": null,
   "metadata": {},
   "outputs": [],
   "source": [
    "# 示例用法\n",
    "df = pd.read_csv(Path(Config.PATH_CONFIG['features_dir'])  / 'training_data.csv')\n",
    "data_loader = DataLoader()\n",
    "model_evaluator = ModelEvaluator()\n",
    "\n",
    "# 划分数据集\n",
    "train_data, val_data, country_test_data = data_loader.split_data_by_countries(\n",
    "    df,\n",
    "    train_size=Config.DATA_CONFIG['country_train_size'],\n",
    "    val_size=Config.DATA_CONFIG['country_val_size'],\n",
    "    random_state=Config.DATA_CONFIG['random_state']\n",
    ")\n",
    "\n",
    "train_data, time_test_data = data_loader.split_data_by_time(train_data,\n",
    "    test_size=Config.DATA_CONFIG['time_test_size'])\n",
    "\n",
    "# 数据分析\n",
    "print('\\n训练集统计信息:')\n",
    "data_loader.analyze_datasets(train_data)\n",
    "print('\\n验证集统计信息:')\n",
    "data_loader.analyze_datasets(val_data)\n",
    "print('\\n外部国家测试集统计信息:')\n",
    "data_loader.analyze_datasets(country_test_data)\n",
    "print('\\n外部时间测试集统计信息:')\n",
    "data_loader.analyze_datasets(time_test_data)\n",
    "#合并验证集和外部国家测试集作为测试集\n",
    "test_data = pd.concat([val_data, country_test_data])\n",
    "print('\\n合并，作为测试集统计信息:')\n",
    "data_loader.analyze_datasets(test_data)"
   ]
  },
  {
   "cell_type": "code",
   "execution_count": null,
   "metadata": {},
   "outputs": [],
   "source": [
    "train_data.to_csv(os.path.join(Config.PATH_CONFIG['data_dir'], 'train.csv'), index=False)\n",
    "test_data.to_csv(os.path.join(Config.PATH_CONFIG['data_dir'], 'test.csv'), index=False)\n",
    "time_test_data.to_csv(os.path.join(Config.PATH_CONFIG['data_dir'], 'time_test_data.csv'), index=False)\n",
    "\n",
    "# 排除不需要的列\n",
    "feature_cols = [col for col in train_data.columns \n",
    "                if col not in [Config.DATA_CONFIG['target_column'], 'Country Name', 'Year']]\n",
    "\n",
    "train = train_data[feature_cols]\n",
    "test = test_data[feature_cols]\n",
    "time_test_data = time_test_data[feature_cols] \n",
    "\n",
    "target_column = Config.DATA_CONFIG['target_column']\n",
    "method = Config.FEATURE_CONFIG['target_transform_method']\n",
    "transformed_column = f'{target_column}_{method}'\n"
   ]
  },
  {
   "cell_type": "code",
   "execution_count": null,
   "metadata": {},
   "outputs": [],
   "source": [
    "# 训练模型\n",
    "models = train_models(train,test,transformed_column)"
   ]
  },
  {
   "cell_type": "code",
   "execution_count": null,
   "metadata": {},
   "outputs": [],
   "source": [
    "# 调优\n",
    "tune_models = tune(models)"
   ]
  },
  {
   "cell_type": "code",
   "execution_count": null,
   "metadata": {},
   "outputs": [],
   "source": [
    "# 定义需要包含的模型简称集合\n",
    "include_models = {'gbr', 'lightgbm','xgboost'}\n",
    "\n",
    "# 生成过滤后的有序字典\n",
    "model_dict = {\n",
    "    k: v for k, v in tune_models.items()\n",
    "    if k in include_models\n",
    "}"
   ]
  },
  {
   "cell_type": "code",
   "execution_count": null,
   "metadata": {},
   "outputs": [],
   "source": [
    "# 集成\n",
    "models = ensemble(model_dict)"
   ]
  },
  {
   "cell_type": "code",
   "execution_count": null,
   "metadata": {},
   "outputs": [],
   "source": [
    "save_model = save_models(models)"
   ]
  }
 ],
 "metadata": {
  "kernelspec": {
   "display_name": "pycaret3.0",
   "language": "python",
   "name": "python3"
  },
  "language_info": {
   "codemirror_mode": {
    "name": "ipython",
    "version": 3
   },
   "file_extension": ".py",
   "mimetype": "text/x-python",
   "name": "python",
   "nbconvert_exporter": "python",
   "pygments_lexer": "ipython3",
   "version": "3.8.20"
  }
 },
 "nbformat": 4,
 "nbformat_minor": 2
}
